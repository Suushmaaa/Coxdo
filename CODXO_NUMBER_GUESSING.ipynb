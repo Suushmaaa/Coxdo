{
  "nbformat": 4,
  "nbformat_minor": 0,
  "metadata": {
    "colab": {
      "provenance": []
    },
    "kernelspec": {
      "name": "python3",
      "display_name": "Python 3"
    },
    "language_info": {
      "name": "python"
    }
  },
  "cells": [
    {
      "cell_type": "markdown",
      "source": [
        "**IMPORT LIBRARIES**\n",
        "\n",
        "\n",
        "Import the random module as to guess the number .Numpy for the numbers"
      ],
      "metadata": {
        "id": "GLbq-xfss8P_"
      }
    },
    {
      "cell_type": "code",
      "source": [
        "import random\n",
        "import tkinter as tk\n",
        "import math"
      ],
      "metadata": {
        "id": "PPj2QGActRbH"
      },
      "execution_count": null,
      "outputs": []
    },
    {
      "cell_type": "markdown",
      "source": [
        "Firstly , give the random to the prompt to guess the number.\n",
        "Then,give the random numbers to guess.\n",
        "Using the loops as to guess the numbers high or low.\n",
        "If the secret number is guessed crctly then congratulations.I gave 7 chances to guess the correct secert number.\n",
        "\n",
        "\n",
        "\n"
      ],
      "metadata": {
        "id": "0w8WKKhjuFcw"
      }
    },
    {
      "cell_type": "code",
      "source": [
        "import random\n",
        "lower_bound = 1\n",
        "upper_bound = 100\n",
        "secret_number = random.randint(lower_bound, upper_bound)\n",
        "max_attempts = 7\n",
        "attempts = 0\n",
        "while attempts < max_attempts:\n",
        "    guess = int(input(f\"Guess a number between {lower_bound} and {upper_bound}: \"))\n",
        "\n",
        "    if guess == secret_number:\n",
        "        print(\"Congratulations! You guessed the secret number.\")\n",
        "        break\n",
        "    elif guess < secret_number:\n",
        "        print(\"Too low. Try again!\")\n",
        "    else:\n",
        "        print(\"Too high. Try again!\")\n",
        "\n",
        "    attempts += 1\n",
        "else:\n",
        "    print(f\"Sorry, you have exceeded the maximum number of attempts ({max_attempts}). The secret number was {secret_number}.\")3"
      ],
      "metadata": {
        "colab": {
          "base_uri": "https://localhost:8080/"
        },
        "id": "28JXqVcuPcvf",
        "outputId": "38baf38b-af46-4838-a54a-17311773c21d"
      },
      "execution_count": 2,
      "outputs": [
        {
          "output_type": "stream",
          "name": "stdout",
          "text": [
            "Guess a number between 1 and 100: 33\n",
            "Too low. Try again!\n",
            "Guess a number between 1 and 100: 35\n",
            "Too low. Try again!\n",
            "Guess a number between 1 and 100: 37\n",
            "Too low. Try again!\n",
            "Guess a number between 1 and 100: 333\n",
            "Too high. Try again!\n",
            "Guess a number between 1 and 100: 3333333333\n",
            "Too high. Try again!\n",
            "Guess a number between 1 and 100: 333333333333333\n",
            "Too high. Try again!\n",
            "Guess a number between 1 and 100: 333333333333333333\n",
            "Too high. Try again!\n",
            "Sorry, you have exceeded the maximum number of attempts (7). The secret number was 39.\n"
          ]
        }
      ]
    },
    {
      "cell_type": "markdown",
      "source": [
        "**Number guessing game **"
      ],
      "metadata": {
        "id": "eDRvY2SoQMov"
      }
    },
    {
      "cell_type": "code",
      "source": [
        "import random\n",
        "\n",
        "def number_guessing_game():\n",
        "    lower_bound = 1\n",
        "    upper_bound = 100\n",
        "    secret_number = random.randint(lower_bound, upper_bound)\n",
        "    max_attempts = 7\n",
        "    attempts = 0\n",
        "    while attempts < max_attempts:\n",
        "        guess = int(input(f\"Guess a number between {lower_bound} and {upper_bound}: \"))\n",
        "\n",
        "        if guess == secret_number:\n",
        "            print(\"Congratulations! You guessed the secret number.\")\n",
        "            break\n",
        "        elif guess < secret_number:\n",
        "            print(\"Too low. Try again!\")\n",
        "        else:\n",
        "            print(\"Too high. Try again!\")\n",
        "\n",
        "        attempts += 1\n",
        "    else:\n",
        "        print(f\"Sorry, you have exceeded the maximum number of attempts ({max_attempts}). The secret number was {secret_number}.\")\n",
        "number_guessing_game()"
      ],
      "metadata": {
        "colab": {
          "base_uri": "https://localhost:8080/"
        },
        "id": "OECKkLyaPprp",
        "outputId": "53c73c30-dec6-4e67-fc60-fc829ebb8063"
      },
      "execution_count": 3,
      "outputs": [
        {
          "output_type": "stream",
          "name": "stdout",
          "text": [
            "Guess a number between 1 and 100: 22\n",
            "Congratulations! You guessed the secret number.\n"
          ]
        }
      ]
    }
  ]
}